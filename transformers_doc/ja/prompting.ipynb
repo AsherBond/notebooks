{
 "cells": [
  {
   "cell_type": "markdown",
   "metadata": {},
   "source": [
    "# LLM prompting guide"
   ]
  },
  {
   "cell_type": "markdown",
   "metadata": {},
   "source": [
    "Falcon、LLaMA などの大規模言語モデルは、事前にトレーニングされたトランスフォーマー モデルであり、最初は予測するようにトレーニングされています。\n",
    "入力テキストが与えられた場合の次のトークン。通常、数十億のパラメータがあり、何兆ものパラメータでトレーニングされています。\n",
    "長期間のトークン。その結果、これらのモデルは非常に強力で多用途になり、次のようなことが可能になります。\n",
    "自然言語プロンプトでモデルに指示することで、すぐに複数の NLP タスクを解決できます。\n",
    "\n",
    "最適な出力を保証するためにこのようなプロンプトを設計することは、多くの場合「プロンプト エンジニアリング」と呼ばれます。プロンプトエンジニアリングとは、\n",
    "かなりの量の実験を必要とする反復プロセス。自然言語ははるかに柔軟で表現力豊かです\n",
    "ただし、プログラミング言語よりもあいまいさが生じる可能性があります。同時に、自然言語によるプロンプト\n",
    "変化にはかなり敏感です。プロンプトにわずかな変更を加えただけでも、出力が大幅に異なる場合があります。\n",
    "\n",
    "すべてのケースに適合するプロンプトを作成するための正確なレシピはありませんが、研究者はいくつかの最良のレシピを考案しました。\n",
    "最適な結果をより一貫して達成するのに役立つ実践。\n",
    "\n",
    "このガイドでは、より優れた LLM プロンプトを作成し、さまざまな NLP タスクを解決するのに役立つプロンプト エンジニアリングのベスト プラクティスについて説明します。\n",
    "次のことを学びます:\n",
    "\n",
    "- [プロンプトの基本](#basics-of-prompting)\n",
    "- [LLM プロンプトのベスト プラクティス](#best-practices-of-llm-prompting)\n",
    "- [高度なプロンプト テクニック: 数回のプロンプトと思考の連鎖](#advanced-prompting-techniques)\n",
    "- [プロンプトを表示する代わりに微調整する場合](#prompting-vs-fine-tuning)\n",
    "\n",
    "<Tip>\n",
    "\n",
    "迅速なエンジニアリングは、LLM 出力最適化プロセスの一部にすぎません。もう 1 つの重要な要素は、\n",
    "最適なテキスト生成戦略。 LLM が生成時に後続の各トークンを選択する方法をカスタマイズできます。\n",
    "トレーニング可能なパラメータを一切変更せずにテキストを作成します。テキスト生成パラメータを微調整することで、\n",
    "生成されたテキストに繰り返しが含まれているため、より一貫性があり人間らしい響きになります。\n",
    "テキスト生成戦略とパラメーターはこのガイドの範囲外ですが、これらのトピックについて詳しくは、次のトピックを参照してください。\n",
    "次のガイド:\n",
    " \n",
    "* [LLM による生成](https://huggingface.co/docs/transformers/main/ja/tasks/../llm_tutorial)\n",
    "* [テキスト生成戦略](https://huggingface.co/docs/transformers/main/ja/tasks/../generation_strategies)\n",
    "\n",
    "</Tip>"
   ]
  },
  {
   "cell_type": "markdown",
   "metadata": {},
   "source": [
    "## Basics of prompting"
   ]
  },
  {
   "cell_type": "markdown",
   "metadata": {},
   "source": [
    "### Types of models "
   ]
  },
  {
   "cell_type": "markdown",
   "metadata": {},
   "source": [
    "最新の LLM の大部分は、デコーダ専用のトランスフォーマーです。例としては、[LLaMA](https://huggingface.co/docs/transformers/main/ja/tasks/../model_doc/llama)、\n",
    "[Llama2](https://huggingface.co/docs/transformers/main/ja/tasks/../model_doc/llama2)、[Falcon](https://huggingface.co/docs/transformers/main/ja/tasks/../model_doc/falcon)、[GPT2](https://huggingface.co/docs/transformers/main/ja/tasks/../model_doc/gpt2)。ただし、遭遇する可能性があります\n",
    "エンコーダ デコーダ トランスフォーマ LLM も同様です。たとえば、[Flan-T5](https://huggingface.co/docs/transformers/main/ja/tasks/../model_doc/flan-t5) や [BART](https://huggingface.co/docs/transformers/main/ja/tasks/../model_doc/bart) です。\n",
    "\n",
    "エンコーダ デコーダ スタイルのモデルは通常、出力が入力に**大きく**依存する生成タスクで使用されます。\n",
    "たとえば、翻訳と要約です。デコーダ専用モデルは、他のすべてのタイプの生成タスクに使用されます。\n",
    "\n",
    "パイプラインを使用して LLM でテキストを生成する場合、使用している LLM のタイプを知ることが重要です。\n",
    "異なるパイプラインを使用します。\n",
    "\n",
    "`text-generation`パイプラインを使用してデコーダのみのモデルで推論を実行します。"
   ]
  },
  {
   "cell_type": "code",
   "execution_count": null,
   "metadata": {},
   "outputs": [
    {
     "data": {
      "text/plain": [
       "[{'generated_text': \"Hello, I'm a language model expert, so I'm a big believer in the concept that I know very well and then I try to look into\"}]"
      ]
     },
     "execution_count": null,
     "metadata": {},
     "output_type": "execute_result"
    }
   ],
   "source": [
    "from transformers import pipeline\n",
    "import torch\n",
    "\n",
    "torch.manual_seed(0)\n",
    "generator = pipeline('text-generation', model = 'openai-community/gpt2')\n",
    "prompt = \"Hello, I'm a language model\"\n",
    "\n",
    "generator(prompt, max_length = 30)"
   ]
  },
  {
   "cell_type": "markdown",
   "metadata": {},
   "source": [
    "エンコーダー/デコーダーを使用して推論を実行するには、`text2text-generation` パイプラインを使用します。"
   ]
  },
  {
   "cell_type": "code",
   "execution_count": null,
   "metadata": {},
   "outputs": [
    {
     "data": {
      "text/plain": [
       "[{'generated_text': 'Je suis très heureuse de vous rencontrer.'}]"
      ]
     },
     "execution_count": null,
     "metadata": {},
     "output_type": "execute_result"
    }
   ],
   "source": [
    "text2text_generator = pipeline(\"text2text-generation\", model = 'google/flan-t5-base')\n",
    "prompt = \"Translate from English to French: I'm very happy to see you\"\n",
    "\n",
    "text2text_generator(prompt)"
   ]
  },
  {
   "cell_type": "markdown",
   "metadata": {},
   "source": [
    "### Base vs instruct/chat models"
   ]
  },
  {
   "cell_type": "markdown",
   "metadata": {},
   "source": [
    "🤗 Hub で利用できる最近の LLM チェックポイントのほとんどには、base と instruct (または chat) の 2 つのバージョンがあります。例えば、\n",
    "[`tiiuae/falcon-7b`](https://huggingface.co/tiiuae/falcon-7b) および [`tiiuae/falcon-7b-instruct`](https://huggingface.co/tiiuae/falcon-7b) -指示する)。\n",
    "\n",
    "基本モデルは、最初のプロンプトが与えられたときにテキストを完成させるのには優れていますが、NLP タスクには理想的ではありません。\n",
    "指示に従う必要がある場合、または会話で使用する場合に使用します。ここで、指示 (チャット) バージョンが登場します。\n",
    "これらのチェックポイントは、命令と会話データに基づいて事前トレーニングされたベース バージョンをさらに微調整した結果です。\n",
    "この追加の微調整により、多くの NLP タスクにとってより適切な選択肢になります。\n",
    "\n",
    "[`tiiuae/falcon-7b-instruct`](https://huggingface.co/tiiuae/falcon-7b-instruct) で使用できるいくつかの簡単なプロンプトを示してみましょう。\n",
    "いくつかの一般的な NLP タスクを解決します。"
   ]
  },
  {
   "cell_type": "markdown",
   "metadata": {},
   "source": [
    "### NLP tasks "
   ]
  },
  {
   "cell_type": "markdown",
   "metadata": {},
   "source": [
    "まず、環境をセットアップしましょう。\n",
    "\n",
    "```bash\n",
    "pip install -q transformers accelerate\n",
    "```\n",
    "\n",
    "次に、適切なパイプライン (`text_generation`) を使用してモデルをロードしましょう。"
   ]
  },
  {
   "cell_type": "code",
   "execution_count": null,
   "metadata": {},
   "outputs": [],
   "source": [
    "from transformers import pipeline, AutoTokenizer\n",
    "import torch\n",
    "\n",
    "torch.manual_seed(0)\n",
    "model = \"tiiuae/falcon-7b-instruct\"\n",
    "\n",
    "tokenizer = AutoTokenizer.from_pretrained(model)\n",
    "pipe = pipeline(\n",
    "    \"text-generation\",\n",
    "    model=model,\n",
    "    tokenizer=tokenizer,\n",
    "    dtype=torch.bfloat16,\n",
    "    device_map=\"auto\",\n",
    ")"
   ]
  },
  {
   "cell_type": "markdown",
   "metadata": {},
   "source": [
    "<Tip>\n",
    "\n",
    "Falcon モデルは `bfloat16` データ型を使用してトレーニングされたため、同じものを使用することをお勧めします。これには、最近の\n",
    "CUDA のバージョンに準拠しており、最新のカードで最適に動作します。\n",
    "\n",
    "</Tip>\n",
    "\n",
    "パイプライン経由でモデルをロードしたので、プロンプトを使用して NLP タスクを解決する方法を見てみましょう。"
   ]
  },
  {
   "cell_type": "markdown",
   "metadata": {},
   "source": [
    "#### Text classification"
   ]
  },
  {
   "cell_type": "markdown",
   "metadata": {},
   "source": [
    "テキスト分類の最も一般的な形式の 1 つはセンチメント分析であり、「ポジティブ」、「ネガティブ」、「ネガティブ」などのラベルを割り当てます。\n",
    "または、一連のテキストに対して「中立」です。与えられたテキスト (映画レビュー) を分類するようにモデルに指示するプロンプトを作成してみましょう。\n",
    "まず指示を与え、次に分類するテキストを指定します。そのままにしておくのではなく、\n",
    "応答の先頭にも追加します - `\"Sentiment: \"`:"
   ]
  },
  {
   "cell_type": "code",
   "execution_count": null,
   "metadata": {},
   "outputs": [
    {
     "data": {
      "text/plain": [
       "Result: Classify the text into neutral, negative or positive. \n",
       "Text: This movie is definitely one of my favorite movies of its kind. The interaction between respectable and morally strong characters is an ode to chivalry and the honor code amongst thieves and policemen.\n",
       "Sentiment:\n",
       "Positive"
      ]
     },
     "execution_count": null,
     "metadata": {},
     "output_type": "execute_result"
    }
   ],
   "source": [
    "torch.manual_seed(0)\n",
    "prompt = \"\"\"Classify the text into neutral, negative or positive. \n",
    "Text: This movie is definitely one of my favorite movies of its kind. The interaction between respectable and morally strong characters is an ode to chivalry and the honor code amongst thieves and policemen.\n",
    "Sentiment:\n",
    "\"\"\"\n",
    "\n",
    "sequences = pipe(\n",
    "    prompt,\n",
    "    max_new_tokens=10,\n",
    ")\n",
    "\n",
    "for seq in sequences:\n",
    "    print(f\"Result: {seq['generated_text']}\")"
   ]
  },
  {
   "cell_type": "markdown",
   "metadata": {},
   "source": [
    "その結果、出力には、手順で提供したリストの分類ラベルが含まれており、それは正しいラベルです。\n",
    "\n",
    "<Tip>\n",
    "\n",
    "プロンプトに加えて、`max_new_tokens`パラメータを渡していることに気づくかもしれません。トークンの数を制御します。\n",
    "モデルが生成します。これは、学習できる多くのテキスト生成パラメーターの 1 つです。\n",
    "[テキスト生成戦略](https://huggingface.co/docs/transformers/main/ja/tasks/../generation_strategies) ガイドを参照してください。\n",
    "\n",
    "</Tip>"
   ]
  },
  {
   "cell_type": "markdown",
   "metadata": {},
   "source": [
    "#### Named Entity Recognition"
   ]
  },
  {
   "cell_type": "markdown",
   "metadata": {},
   "source": [
    "固有表現認識 (NER) は、テキスト内の人物、場所、組織などの固有表現を検索するタスクです。\n",
    "プロンプトの指示を変更して、LLM にこのタスクを実行させましょう。ここでは`return_full_text = False`も設定しましょう\n",
    "出力にプロンプ​​トが含​​まれないようにします。"
   ]
  },
  {
   "cell_type": "code",
   "execution_count": null,
   "metadata": {},
   "outputs": [
    {
     "data": {
      "text/plain": [
       "- Golden State Warriors\n",
       "- San Francisco"
      ]
     },
     "execution_count": null,
     "metadata": {},
     "output_type": "execute_result"
    }
   ],
   "source": [
    "torch.manual_seed(1)\n",
    "prompt = \"\"\"Return a list of named entities in the text.\n",
    "Text: The Golden State Warriors are an American professional basketball team based in San Francisco.\n",
    "Named entities:\n",
    "\"\"\"\n",
    "\n",
    "sequences = pipe(\n",
    "    prompt,\n",
    "    max_new_tokens=15,\n",
    "    return_full_text = False,    \n",
    ")\n",
    "\n",
    "for seq in sequences:\n",
    "    print(f\"{seq['generated_text']}\")"
   ]
  },
  {
   "cell_type": "markdown",
   "metadata": {},
   "source": [
    "ご覧のとおり、モデルは指定されたテキストから 2 つの名前付きエンティティを正しく識別しました。"
   ]
  },
  {
   "cell_type": "markdown",
   "metadata": {},
   "source": [
    "#### Translation"
   ]
  },
  {
   "cell_type": "markdown",
   "metadata": {},
   "source": [
    "LLM が実行できるもう 1 つのタスクは翻訳です。このタスクにはエンコーダー/デコーダー モデルを使用することを選択できますが、ここでは\n",
    "例を簡単にするために、きちんとした仕事をする Falcon-7b-instruct を使い続けます。もう一度、方法は次のとおりです\n",
    "テキストの一部を英語からイタリア語に翻訳するようにモデルに指示する基本的なプロンプトを作成できます。"
   ]
  },
  {
   "cell_type": "code",
   "execution_count": null,
   "metadata": {},
   "outputs": [
    {
     "data": {
      "text/plain": [
       "A volte, ho creduto a sei impossibili cose prima di colazione."
      ]
     },
     "execution_count": null,
     "metadata": {},
     "output_type": "execute_result"
    }
   ],
   "source": [
    "torch.manual_seed(2)\n",
    "prompt = \"\"\"Translate the English text to Italian.\n",
    "Text: Sometimes, I've believed as many as six impossible things before breakfast.\n",
    "Translation:\n",
    "\"\"\"\n",
    "\n",
    "sequences = pipe(\n",
    "    prompt,\n",
    "    max_new_tokens=20,\n",
    "    do_sample=True,\n",
    "    top_k=10,\n",
    "    return_full_text = False,\n",
    ")\n",
    "\n",
    "for seq in sequences:\n",
    "    print(f\"{seq['generated_text']}\")"
   ]
  },
  {
   "cell_type": "markdown",
   "metadata": {},
   "source": [
    "ここでは、出力生成時にモデルがもう少し柔軟になるように `do_sample=True` と `top_k=10` を追加しました。"
   ]
  },
  {
   "cell_type": "markdown",
   "metadata": {},
   "source": [
    "#### Text summarization"
   ]
  },
  {
   "cell_type": "markdown",
   "metadata": {},
   "source": [
    "翻訳と同様に、テキストの要約も、出力が入力に**大きく**依存する生成タスクです。\n",
    "エンコーダ/デコーダ モデルの方が良い選択になる可能性があります。ただし、デコーダ スタイルのモデルもこのタスクに使用できます。\n",
    "以前は、プロンプトの先頭に指示を配置していました。ただし、プロンプトの最後で、\n",
    "指示を与えるのに適した場所でもあります。通常、命令はどちらかの端に配置することをお勧めします。"
   ]
  },
  {
   "cell_type": "code",
   "execution_count": null,
   "metadata": {},
   "outputs": [
    {
     "data": {
      "text/plain": [
       "Permaculture is an ecological design mimicking natural ecosystems to meet basic needs and prepare for climate change. It is based on traditional knowledge and scientific understanding."
      ]
     },
     "execution_count": null,
     "metadata": {},
     "output_type": "execute_result"
    }
   ],
   "source": [
    "torch.manual_seed(3)\n",
    "prompt = \"\"\"Permaculture is a design process mimicking the diversity, functionality and resilience of natural ecosystems. The principles and practices are drawn from traditional ecological knowledge of indigenous cultures combined with modern scientific understanding and technological innovations. Permaculture design provides a framework helping individuals and communities develop innovative, creative and effective strategies for meeting basic needs while preparing for and mitigating the projected impacts of climate change.\n",
    "Write a summary of the above text.\n",
    "Summary:\n",
    "\"\"\"\n",
    "\n",
    "sequences = pipe(\n",
    "    prompt,\n",
    "    max_new_tokens=30,\n",
    "    do_sample=True,\n",
    "    top_k=10,\n",
    "    return_full_text = False,\n",
    ")\n",
    "\n",
    "for seq in sequences:\n",
    "    print(f\"{seq['generated_text']}\")"
   ]
  },
  {
   "cell_type": "markdown",
   "metadata": {},
   "source": [
    "#### Question answering"
   ]
  },
  {
   "cell_type": "markdown",
   "metadata": {},
   "source": [
    "質問応答タスクの場合、プロンプトを次の論理コンポーネントに構造化できます: 指示、コンテキスト、質問、\n",
    "先頭の単語またはフレーズ (`\"Answer:\"`) を使用して、モデルを操作して答えの生成を開始します。"
   ]
  },
  {
   "cell_type": "code",
   "execution_count": null,
   "metadata": {},
   "outputs": [
    {
     "data": {
      "text/plain": [
       "Result: Modern tools are used, such as immersion blenders"
      ]
     },
     "execution_count": null,
     "metadata": {},
     "output_type": "execute_result"
    }
   ],
   "source": [
    "torch.manual_seed(4)\n",
    "prompt = \"\"\"Answer the question using the context below.\n",
    "Context: Gazpacho is a cold soup and drink made of raw, blended vegetables. Most gazpacho includes stale bread, tomato, cucumbers, onion, bell peppers, garlic, olive oil, wine vinegar, water, and salt. Northern recipes often include cumin and/or pimentón (smoked sweet paprika). Traditionally, gazpacho was made by pounding the vegetables in a mortar with a pestle; this more laborious method is still sometimes used as it helps keep the gazpacho cool and avoids the foam and silky consistency of smoothie versions made in blenders or food processors.\n",
    "Question: What modern tool is used to make gazpacho?\n",
    "Answer:\n",
    "\"\"\"\n",
    "\n",
    "sequences = pipe(\n",
    "    prompt,\n",
    "    max_new_tokens=10,\n",
    "    do_sample=True,\n",
    "    top_k=10,\n",
    "    return_full_text = False,\n",
    ")\n",
    "\n",
    "for seq in sequences:\n",
    "    print(f\"Result: {seq['generated_text']}\")"
   ]
  },
  {
   "cell_type": "markdown",
   "metadata": {},
   "source": [
    "#### Reasoning"
   ]
  },
  {
   "cell_type": "markdown",
   "metadata": {},
   "source": [
    "LLM にとって推論は最も困難なタスクの 1 つであり、良い結果を達成するには、多くの場合、次のような高度なプロンプト テクニックを適用する必要があります。\n",
    "[Chain-of-thought](#chain-of-thought)。\n",
    "\n",
    "基本的なプロンプトを使用して、単純な算術タスクに関するモデル推論を作成できるかどうか試してみましょう。"
   ]
  },
  {
   "cell_type": "code",
   "execution_count": null,
   "metadata": {},
   "outputs": [
    {
     "data": {
      "text/plain": [
       "Result: \n",
       "There are a total of 5 groups, so there are 5 x 4=20 students in the class."
      ]
     },
     "execution_count": null,
     "metadata": {},
     "output_type": "execute_result"
    }
   ],
   "source": [
    "torch.manual_seed(5)\n",
    "prompt = \"\"\"There are 5 groups of students in the class. Each group has 4 students. How many students are there in the class?\"\"\"\n",
    "\n",
    "sequences = pipe(\n",
    "    prompt,\n",
    "    max_new_tokens=30,\n",
    "    do_sample=True,\n",
    "    top_k=10,\n",
    "    return_full_text = False,\n",
    ")\n",
    "\n",
    "for seq in sequences:\n",
    "    print(f\"Result: {seq['generated_text']}\")"
   ]
  },
  {
   "cell_type": "markdown",
   "metadata": {},
   "source": [
    "正しい！もう少し複雑さを増やして、基本的なプロンプトで問題を解決できるかどうかを確認してみましょう。"
   ]
  },
  {
   "cell_type": "code",
   "execution_count": null,
   "metadata": {},
   "outputs": [
    {
     "data": {
      "text/plain": [
       "Result: \n",
       "The total number of muffins now is 21"
      ]
     },
     "execution_count": null,
     "metadata": {},
     "output_type": "execute_result"
    }
   ],
   "source": [
    "torch.manual_seed(6)\n",
    "prompt = \"\"\"I baked 15 muffins. I ate 2 muffins and gave 5 muffins to a neighbor. My partner then bought 6 more muffins and ate 2. How many muffins do we now have?\"\"\"\n",
    "\n",
    "sequences = pipe(\n",
    "    prompt,\n",
    "    max_new_tokens=10,\n",
    "    do_sample=True,\n",
    "    top_k=10,\n",
    "    return_full_text = False,\n",
    ")\n",
    "\n",
    "for seq in sequences:\n",
    "    print(f\"Result: {seq['generated_text']}\")"
   ]
  },
  {
   "cell_type": "markdown",
   "metadata": {},
   "source": [
    "これは間違った答えです。12 である必要があります。この場合、プロンプトが基本的すぎるか、選択内容が原因である可能性があります。\n",
    "結局のところ、Falcon の最小バージョンを選択しました。あらゆるサイズのモデルでは推論が困難ですが、より大きなモデルでは\n",
    "モデルのパフォーマンスが向上する可能性があります。"
   ]
  },
  {
   "cell_type": "markdown",
   "metadata": {},
   "source": [
    "## Best practices of LLM prompting"
   ]
  },
  {
   "cell_type": "markdown",
   "metadata": {},
   "source": [
    "ガイドのこのセクションでは、プロンプトの結果を改善する傾向にあるベスト プラクティスのリストをまとめました。\n",
    "\n",
    "* 使用するモデルを選択する場合は、最新かつ最も機能的なモデルの方がパフォーマンスが向上する可能性があります。\n",
    "* シンプルで短いプロンプトから始めて、そこから繰り返します。\n",
    "* 指示はプロンプトの最初または最後に入力してください。大規模なコンテキストを扱う場合、モデルはさまざまな最適化を適用して、アテンションの複雑さが二次的に拡大するのを防ぎます。これにより、モデルはプロンプトの途中よりも最初または最後に注意を払うようになります。\n",
    "* 指示と、それが適用されるテキストを明確に区別してください。これについては、次のセクションで詳しく説明します。\n",
    "* タスクと望ましい結果 (その形式、長さ、スタイル、言語など) について具体的かつ説明的にします。\n",
    "* 曖昧な説明や指示は避けてください。\n",
    "*「何をしてはいけないか」という指示ではなく、「何をすべきか」という指示を優先します。\n",
    "* 最初の単語を書いて (またはモデルの最初の文を始めて)、出力を正しい方向に「導き」ます。\n",
    "* [Few-shot prompting](#few-shot-prompting) や [Chain-of-thought](#chain-of-thought) などの高度なテクニックを使用します。\n",
    "* さまざまなモデルでプロンプトをテストして、その堅牢性を評価します。\n",
    "* プロンプトのバージョンを確認し、パフォーマンスを追跡します。"
   ]
  },
  {
   "cell_type": "markdown",
   "metadata": {},
   "source": [
    "## Advanced prompting techniques"
   ]
  },
  {
   "cell_type": "markdown",
   "metadata": {},
   "source": [
    "### Few-shot prompting"
   ]
  },
  {
   "cell_type": "markdown",
   "metadata": {},
   "source": [
    "上記のセクションの基本的なプロンプトは、「ゼロショット」プロンプトの例です。つまり、モデルにはすでに与えられています。\n",
    "指示とコンテキストはありますが、解決策を含む例はありません。通常、命令データセットに基づいて微調整された LLM\n",
    "このような「ゼロショット」タスクでも優れたパフォーマンスを発揮します。ただし、タスクがより複雑であったり微妙な点があったりする場合があります。\n",
    "出力には、命令だけではモデルが理解できないいくつかの要件があります。この場合、次のことができます。\n",
    "少数ショット プロンプトと呼ばれるテクニックを試してください。\n",
    "\n",
    "少数ショット プロンプトでは、モデルにパフォーマンスを向上させるためのより多くのコンテキストを提供するプロンプト内の例が提供されます。\n",
    "例では、例のパターンに従って出力を生成するようにモデルを条件付けします。\n",
    "\n",
    "以下に例を示します。"
   ]
  },
  {
   "cell_type": "code",
   "execution_count": null,
   "metadata": {},
   "outputs": [
    {
     "data": {
      "text/plain": [
       "Result: Text: The first human went into space and orbited the Earth on April 12, 1961.\n",
       "Date: 04/12/1961\n",
       "Text: The first-ever televised presidential debate in the United States took place on September 28, 1960, between presidential candidates John F. Kennedy and Richard Nixon. \n",
       "Date: 09/28/1960"
      ]
     },
     "execution_count": null,
     "metadata": {},
     "output_type": "execute_result"
    }
   ],
   "source": [
    "torch.manual_seed(0)\n",
    "prompt = \"\"\"Text: The first human went into space and orbited the Earth on April 12, 1961.\n",
    "Date: 04/12/1961\n",
    "Text: The first-ever televised presidential debate in the United States took place on September 28, 1960, between presidential candidates John F. Kennedy and Richard Nixon. \n",
    "Date:\"\"\"\n",
    "\n",
    "sequences = pipe(\n",
    "    prompt,\n",
    "    max_new_tokens=8,\n",
    "    do_sample=True,\n",
    "    top_k=10,\n",
    ")\n",
    "\n",
    "for seq in sequences:\n",
    "    print(f\"Result: {seq['generated_text']}\")"
   ]
  },
  {
   "cell_type": "markdown",
   "metadata": {},
   "source": [
    "上記のコード スニペットでは、モデルへの目的の出力を示すために 1 つの例を使用しました。したがって、これは、\n",
    "「ワンショット」プロンプト。ただし、タスクの複雑さに応じて、複数の例を使用する必要がある場合があります。\n",
    "\n",
    "数回のプロンプト手法の制限:\n",
    "- LLM は例のパターンを理解できますが、これらの手法は複雑な推論タスクではうまく機能しません。\n",
    "- 少数ショットのプロンプトでは、長いプロンプトを作成する必要があります。大量のトークンを含むプロンプトでは、計算量と待ち時間が増加する可能性があります。プロンプトの長さにも制限があります。\n",
    "- 多くの例を与えると、モデルが学習するつもりのなかったパターンを学習することがあります。 3番目の映画レビューはいつも否定的だということ。"
   ]
  },
  {
   "cell_type": "markdown",
   "metadata": {},
   "source": [
    "### Chain-of-thought"
   ]
  },
  {
   "cell_type": "markdown",
   "metadata": {},
   "source": [
    "思考連鎖 (CoT) プロンプトは、モデルを微調整して中間推論ステップを生成し、改善する手法です。\n",
    "複雑な推論タスクの結果。\n",
    "\n",
    "モデルを操作して推論ステップを生成するには、2 つの方法があります。\n",
    "- 質問に対する詳細な回答を含む例を示し、問題に対処する方法をモデルに示すことで、数回のプロンプトを表示します。\n",
    "- 「ステップごとに考えてみましょう」または「深呼吸して、問題をステップごとに解決してください」などのフレーズを追加してモデルに推論を指示します。\n",
    "\n",
    "[推論セクション](#reasoning) のマフィンの例に CoT テクニックを適用し、より大きなモデルを使用すると、\n",
    "[HuggingChat](https://huggingface.co/chat/)で遊べる(`tiiuae/falcon-180B-chat`)など、\n",
    "推論結果は大幅に改善されます。\n",
    "\n",
    "```text\n",
    "Let's go through this step-by-step:\n",
    "1. You start with 15 muffins.\n",
    "2. You eat 2 muffins, leaving you with 13 muffins.\n",
    "3. You give 5 muffins to your neighbor, leaving you with 8 muffins.\n",
    "4. Your partner buys 6 more muffins, bringing the total number of muffins to 14.\n",
    "5. Your partner eats 2 muffins, leaving you with 12 muffins.\n",
    "Therefore, you now have 12 muffins.\n",
    "```"
   ]
  },
  {
   "cell_type": "markdown",
   "metadata": {},
   "source": [
    "## Prompting vs fine-tuning"
   ]
  },
  {
   "cell_type": "markdown",
   "metadata": {},
   "source": [
    "プロンプトを最適化することで優れた結果を達成できますが、モデルを微調整するかどうかについてはまだ思案するかもしれません。\n",
    "あなたの場合にはもっとうまくいくでしょう。より小規模なモデルを微調整することが好ましいオプションである場合のいくつかのシナリオを次に示します。\n",
    "\n",
    "- ドメインが LLM が事前にトレーニングされたものと大きく異なっており、広範なプロンプト最適化では十分な結果が得られませんでした。\n",
    "- モデルが低リソース言語で適切に動作する必要があります。\n",
    "- 厳格な規制の下にある機密データでモデルをトレーニングする必要があります。\n",
    "- コスト、プライバシー、インフラストラクチャ、またはその他の制限により、小規模なモデルを使用する必要があります。\n",
    "\n",
    "上記のすべての例で、十分な大きさのファイルをすでに持っているか、簡単に入手できるかを確認する必要があります。\n",
    "ドメイン固有のデータセットを合理的なコストでモデルを微調整できます。十分な時間とリソースも必要になります\n",
    "モデルを微調整します。\n",
    "\n",
    "上記の例が当てはまらない場合は、プロンプトを最適化する方が有益であることがわかります。"
   ]
  }
 ],
 "metadata": {},
 "nbformat": 4,
 "nbformat_minor": 4
}
