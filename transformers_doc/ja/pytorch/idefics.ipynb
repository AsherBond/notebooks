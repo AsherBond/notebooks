{
 "cells": [
  {
   "cell_type": "markdown",
   "metadata": {},
   "source": [
    "# Image tasks with IDEFICS"
   ]
  },
  {
   "cell_type": "markdown",
   "metadata": {},
   "source": [
    "個別のタスクは特殊なモデルを微調整することで対処できますが、別のアプローチも可能です。\n",
    "最近登場して人気を博しているのは、微調整を行わずにさまざまなタスクに大規模なモデルを使用することです。\n",
    "たとえば、大規模な言語モデルは、要約、翻訳、分類などの NLP タスクを処理できます。\n",
    "このアプローチは、テキストなどの単一のモダリティに限定されなくなりました。このガイドでは、次のような方法を説明します。\n",
    "IDEFICS と呼ばれる大規模なマルチモーダル モデルを使用して、画像とテキストのタスクを解決します。\n",
    "\n",
    "[IDEFICS](https://huggingface.co/docs/transformers/main/ja/tasks/../model_doc/idefics) は、[Flamingo](https://huggingface.co/papers/2204.14198) に基づくオープンアクセスのビジョンおよび言語モデルです。\n",
    "DeepMind によって最初に開発された最先端の視覚言語モデル。モデルは任意の画像シーケンスを受け入れます\n",
    "テキストを入力し、出力として一貫したテキストを生成します。画像に関する質問に答えたり、視覚的なコンテンツについて説明したり、\n",
    "複数のイメージに基づいたストーリーを作成するなど。 IDEFICS には 2 つのバリエーションがあります - [800 億パラメータ](https://huggingface.co/HuggingFaceM4/idefics-80b)\n",
    "および [90 億のパラメータ](https://huggingface.co/HuggingFaceM4/idefics-9b)、どちらも 🤗 Hub で入手できます。各バリエーションについて、細かく調整された指示も見つけることができます。\n",
    "会話のユースケースに適応したモデルのバージョン。\n",
    "\n",
    "このモデルは非常に多用途で、幅広い画像タスクやマルチモーダル タスクに使用できます。しかし、\n",
    "大規模なモデルであるということは、大量の計算リソースとインフラストラクチャが必要であることを意味します。それはあなた次第です\n",
    "このアプローチは、個別のタスクごとに特化したモデルを微調整するよりも、ユースケースに適しています。\n",
    "\n",
    "このガイドでは、次の方法を学習します。\n",
    "- [IDEFICS をロード](#loading-the-model) および [モデルの量子化バージョンをロード](#quantized-model)\n",
    "- IDEFICS を次の目的で使用します。\n",
    "  - [画像キャプション](#image-captioning)\n",
    "  - [プロンプト画像キャプション](#prompted-image-captioning)\n",
    "  - [Few-shot プロンプト](#few-shot-prompting)\n",
    "  - [ビジュアル質問回答](#visual-question-answering)\n",
    "  - [画像分類](#image-classification)\n",
    "  - [画像ガイド付きテキスト生成](#image-guided-text-generation)\n",
    "- [バッチモードで推論を実行する](#running-inference-in-batch-mode)\n",
    "- [会話用に IDEFICS 命令を実行](#idefics-instruct-for-conversational-use)\n",
    "\n",
    "始める前に、必要なライブラリがすべてインストールされていることを確認してください。\n",
    "\n",
    "```bash\n",
    "pip install -q bitsandbytes sentencepiece accelerate transformers\n",
    "```\n",
    "\n",
    "<Tip>\n",
    "量子化されていないバージョンのモデル チェックポイントを使用して次の例を実行するには、少なくとも 20GB の GPU メモリが必要です。\n",
    "</Tip>"
   ]
  },
  {
   "cell_type": "markdown",
   "metadata": {},
   "source": [
    "## Loading the model"
   ]
  },
  {
   "cell_type": "markdown",
   "metadata": {},
   "source": [
    "まずはモデルの 90 億個のパラメーターのチェックポイントをロードしましょう。"
   ]
  },
  {
   "cell_type": "code",
   "execution_count": null,
   "metadata": {},
   "outputs": [],
   "source": [
    "checkpoint = \"HuggingFaceM4/idefics-9b\""
   ]
  },
  {
   "cell_type": "markdown",
   "metadata": {},
   "source": [
    "他の Transformers モデルと同様に、プロセッサとモデル自体をチェックポイントからロードする必要があります。\n",
    "IDEFICS プロセッサは、`LlamaTokenizer` と IDEFICS 画像プロセッサを単一のプロセッサにラップして処理します。\n",
    "モデルのテキストと画像の入力を準備します。"
   ]
  },
  {
   "cell_type": "code",
   "execution_count": null,
   "metadata": {},
   "outputs": [],
   "source": [
    "import torch\n",
    "\n",
    "from transformers import IdeficsForVisionText2Text, AutoProcessor\n",
    "\n",
    "processor = AutoProcessor.from_pretrained(checkpoint)\n",
    "\n",
    "model = IdeficsForVisionText2Text.from_pretrained(checkpoint, dtype=torch.bfloat16, device_map=\"auto\")"
   ]
  },
  {
   "cell_type": "markdown",
   "metadata": {},
   "source": [
    "`device_map`を`auto`に設定すると、モデルの重みを最も最適化された状態でロードおよび保存する方法が自動的に決定されます。\n",
    "既存のデバイスを考慮した方法。"
   ]
  },
  {
   "cell_type": "markdown",
   "metadata": {},
   "source": [
    "### Quantized model"
   ]
  },
  {
   "cell_type": "markdown",
   "metadata": {},
   "source": [
    "ハイメモリ GPU の可用性が問題となる場合は、モデルの量子化されたバージョンをロードできます。モデルと\n",
    "プロセッサを 4 ビット精度で使用する場合、`BitsAndBytesConfig`を`from_pretrained`メソッドに渡すと、モデルが圧縮されます。\n",
    "ロード中にその場で。"
   ]
  },
  {
   "cell_type": "code",
   "execution_count": null,
   "metadata": {},
   "outputs": [],
   "source": [
    "import torch\n",
    "from transformers import IdeficsForVisionText2Text, AutoProcessor, BitsAndBytesConfig\n",
    "\n",
    "quantization_config = BitsAndBytesConfig(\n",
    "    load_in_4bit=True,\n",
    "    bnb_4bit_compute_dtype=torch.float16,\n",
    ")\n",
    "\n",
    "processor = AutoProcessor.from_pretrained(checkpoint)\n",
    "\n",
    "model = IdeficsForVisionText2Text.from_pretrained(\n",
    "    checkpoint,\n",
    "    quantization_config=quantization_config,\n",
    "    device_map=\"auto\"\n",
    ")"
   ]
  },
  {
   "cell_type": "markdown",
   "metadata": {},
   "source": [
    "提案された方法のいずれかでモデルをロードしたので、IDEFICS を使用できるタスクの探索に進みましょう。"
   ]
  },
  {
   "cell_type": "markdown",
   "metadata": {},
   "source": [
    "## Image captioning"
   ]
  },
  {
   "cell_type": "markdown",
   "metadata": {},
   "source": [
    "画像のキャプション付けは、特定の画像のキャプションを予測するタスクです。一般的な用途は視覚障害者を支援することです\n",
    "人々はさまざまな状況をナビゲートします。たとえば、オンラインで画像コンテンツを探索します。\n",
    "\n",
    "タスクを説明するには、キャプションを付ける画像を取得します。例:\n",
    "\n",
    "<div class=\"flex justify-center\">\n",
    "     <img src=\"https://huggingface.co/datasets/huggingface/documentation-images/resolve/main/transformers/tasks/idefics-im-captioning.jpg\" alt=\"Image of a puppy in a flower bed\"/>\n",
    "</div>\n",
    "\n",
    "写真提供：[Hendo Wang](https://unsplash.com/@hendoo)\n",
    "\n",
    "IDEFICS はテキストと画像のプロンプトを受け入れます。ただし、画像にキャプションを付けるには、テキスト プロンプトをユーザーに提供する必要はありません。\n",
    "モデル、前処理された入力画像のみ。テキスト プロンプトがない場合、モデルはテキストの生成を開始します。\n",
    "BOS (Beginning-of-sequence) トークンによりキャプションが作成されます。\n",
    "\n",
    "モデルへの画像入力として、画像オブジェクト (`PIL.Image`) または画像を取得できる URL のいずれかを使用できます。"
   ]
  },
  {
   "cell_type": "code",
   "execution_count": null,
   "metadata": {},
   "outputs": [
    {
     "data": {
      "text/plain": [
       "A puppy in a flower bed"
      ]
     },
     "execution_count": null,
     "metadata": {},
     "output_type": "execute_result"
    }
   ],
   "source": [
    "prompt = [\n",
    "    \"https://images.unsplash.com/photo-1583160247711-2191776b4b91?ixlib=rb-4.0.3&ixid=M3wxMjA3fDB8MHxwaG90by1wYWdlfHx8fGVufDB8fHx8fA%3D%3D&auto=format&fit=crop&w=3542&q=80\",\n",
    "]\n",
    "\n",
    "inputs = processor(prompt, return_tensors=\"pt\").to(\"cuda\")\n",
    "bad_words_ids = processor.tokenizer([\"<image>\", \"<fake_token_around_image>\"], add_special_tokens=False).input_ids\n",
    "\n",
    "generated_ids = model.generate(**inputs, max_new_tokens=10, bad_words_ids=bad_words_ids)\n",
    "generated_text = processor.batch_decode(generated_ids, skip_special_tokens=True)\n",
    "print(generated_text[0])"
   ]
  },
  {
   "cell_type": "markdown",
   "metadata": {},
   "source": [
    "<Tip>\n",
    "\n",
    "増加時に発生するエラーを避けるために、`generate`の呼び出しに`bad_words_ids`を含めることをお勧めします。\n",
    "`max_new_tokens`: モデルは、新しい `<image>` または `<fake_token_around_image>` トークンを生成する必要があります。\n",
    "モデルによって画像が生成されていません。\n",
    "このガイドのようにオンザフライで設定することも、[テキスト生成戦略](https://huggingface.co/docs/transformers/main/ja/tasks/../generation_strategies) ガイドで説明されているように `GenerationConfig` に保存することもできます。\n",
    "</Tip>"
   ]
  },
  {
   "cell_type": "markdown",
   "metadata": {},
   "source": [
    "## Prompted image captioning"
   ]
  },
  {
   "cell_type": "markdown",
   "metadata": {},
   "source": [
    "テキスト プロンプトを提供することで画像キャプションを拡張でき、モデルは画像を指定して続行します。持っていきましょう\n",
    "別の図で説明します。\n",
    "\n",
    "<div class=\"flex justify-center\">\n",
    "     <img src=\"https://huggingface.co/datasets/huggingface/documentation-images/resolve/main/transformers/tasks/idefics-prompted-im-captioning.jpg\" alt=\"Image of the Eiffel Tower at night\"/>\n",
    "</div>\n",
    "\n",
    "写真提供：[Denys Nevozhai](https://unsplash.com/@dnevozhai)。\n",
    "   \n",
    "テキストおよび画像のプロンプトを単一のリストとしてモデルのプロセッサに渡し、適切な入力を作成できます。"
   ]
  },
  {
   "cell_type": "code",
   "execution_count": null,
   "metadata": {},
   "outputs": [
    {
     "data": {
      "text/plain": [
       "This is an image of the Eiffel Tower in Paris, France."
      ]
     },
     "execution_count": null,
     "metadata": {},
     "output_type": "execute_result"
    }
   ],
   "source": [
    "prompt = [\n",
    "    \"https://images.unsplash.com/photo-1543349689-9a4d426bee8e?ixlib=rb-4.0.3&ixid=M3wxMjA3fDB8MHxwaG90by1wYWdlfHx8fGVufDB8fHx8fA%3D%3D&auto=format&fit=crop&w=3501&q=80\",\n",
    "    \"This is an image of \",\n",
    "]\n",
    "\n",
    "inputs = processor(prompt, return_tensors=\"pt\").to(\"cuda\")\n",
    "bad_words_ids = processor.tokenizer([\"<image>\", \"<fake_token_around_image>\"], add_special_tokens=False).input_ids\n",
    "\n",
    "generated_ids = model.generate(**inputs, max_new_tokens=10, bad_words_ids=bad_words_ids)\n",
    "generated_text = processor.batch_decode(generated_ids, skip_special_tokens=True)\n",
    "print(generated_text[0])"
   ]
  },
  {
   "cell_type": "markdown",
   "metadata": {},
   "source": [
    "## Few-shot prompting"
   ]
  },
  {
   "cell_type": "markdown",
   "metadata": {},
   "source": [
    "IDEFICS はゼロショットで優れた結果を示しますが、タスクによっては特定の形式のキャプションが必要になる場合や、キャプションが付属する場合があります。\n",
    "タスクの複雑さを増大させるその他の制限または要件。少数のショットのプロンプトを使用して、コンテキスト内の学習を有効にすることができます。\n",
    "プロンプトに例を指定することで、指定された例の形式を模倣した結果を生成するようにモデルを操作できます。\n",
    "\n",
    "前のエッフェル塔の画像をモデルの例として使用し、モデルにデモンストレーションするプロンプトを作成してみましょう。\n",
    "画像内のオブジェクトが何であるかを知ることに加えて、それに関する興味深い情報も取得したいと考えています。\n",
    "次に、自由の女神の画像に対して同じ応答形式を取得できるかどうかを見てみましょう。\n",
    "\n",
    "<div class=\"flex justify-center\">\n",
    "     <img src=\"https://huggingface.co/datasets/huggingface/documentation-images/resolve/main/transformers/tasks/idefics-few-shot.jpg\" alt=\"Image of the Statue of Liberty\"/>\n",
    "</div>\n",
    "\n",
    "写真提供：[Juan Mayobre](https://unsplash.com/@jmayobres)。"
   ]
  },
  {
   "cell_type": "code",
   "execution_count": null,
   "metadata": {},
   "outputs": [
    {
     "data": {
      "text/plain": [
       "User: Describe this image.\n",
       "Assistant: An image of the Eiffel Tower at night. Fun fact: the Eiffel Tower is the same height as an 81-storey building. \n",
       "User: Describe this image.\n",
       "Assistant: An image of the Statue of Liberty. Fun fact: the Statue of Liberty is 151 feet tall."
      ]
     },
     "execution_count": null,
     "metadata": {},
     "output_type": "execute_result"
    }
   ],
   "source": [
    "prompt = [\"User:\",\n",
    "           \"https://images.unsplash.com/photo-1543349689-9a4d426bee8e?ixlib=rb-4.0.3&ixid=M3wxMjA3fDB8MHxwaG90by1wYWdlfHx8fGVufDB8fHx8fA%3D%3D&auto=format&fit=crop&w=3501&q=80\",\n",
    "           \"Describe this image.\\nAssistant: An image of the Eiffel Tower at night. Fun fact: the Eiffel Tower is the same height as an 81-storey building.\\n\",\n",
    "           \"User:\",\n",
    "           \"https://images.unsplash.com/photo-1524099163253-32b7f0256868?ixlib=rb-4.0.3&ixid=M3wxMjA3fDB8MHxwaG90by1wYWdlfHx8fGVufDB8fHx8fA%3D%3D&auto=format&fit=crop&w=3387&q=80\",\n",
    "           \"Describe this image.\\nAssistant:\"\n",
    "           ]\n",
    "\n",
    "inputs = processor(prompt, return_tensors=\"pt\").to(\"cuda\")\n",
    "bad_words_ids = processor.tokenizer([\"<image>\", \"<fake_token_around_image>\"], add_special_tokens=False).input_ids\n",
    "\n",
    "generated_ids = model.generate(**inputs, max_new_tokens=30, bad_words_ids=bad_words_ids)\n",
    "generated_text = processor.batch_decode(generated_ids, skip_special_tokens=True)\n",
    "print(generated_text[0])"
   ]
  },
  {
   "cell_type": "markdown",
   "metadata": {},
   "source": [
    "モデルは 1 つの例 (つまり、1 ショット) だけからタスクの実行方法を学習していることに注目してください。より複雑なタスクの場合は、\n",
    "より多くの例 (3 ショット、5 ショットなど) を自由に試してみてください。"
   ]
  },
  {
   "cell_type": "markdown",
   "metadata": {},
   "source": [
    "## Visual question answering"
   ]
  },
  {
   "cell_type": "markdown",
   "metadata": {},
   "source": [
    "Visual Question Answering (VQA) は、画像に基づいて自由形式の質問に答えるタスクです。画像に似ている\n",
    "キャプションは、アクセシビリティ アプリケーションだけでなく、教育 (視覚資料についての推論) にも使用できます。\n",
    "サービス（画像を基にした商品に関する質問）、画像検索など。\n",
    "\n",
    "このタスク用に新しい画像を取得しましょう。\n",
    "\n",
    "<div class=\"flex justify-center\">\n",
    "     <img src=\"https://huggingface.co/datasets/huggingface/documentation-images/resolve/main/transformers/tasks/idefics-vqa.jpg\" alt=\"Image of a couple having a picnic\"/>\n",
    "</div>\n",
    "\n",
    "写真提供  [Jarritos Mexican Soda](https://unsplash.com/@jarritos).\n",
    "\n",
    "適切な指示をプロンプトすることで、モデルを画像キャプションから視覚的な質問への応答に導くことができます。"
   ]
  },
  {
   "cell_type": "code",
   "execution_count": null,
   "metadata": {},
   "outputs": [
    {
     "data": {
      "text/plain": [
       "Instruction: Provide an answer to the question. Use the image to answer.\n",
       " Question: Where are these people and what's the weather like? Answer: They're in a park in New York City, and it's a beautiful day."
      ]
     },
     "execution_count": null,
     "metadata": {},
     "output_type": "execute_result"
    }
   ],
   "source": [
    "prompt = [\n",
    "    \"Instruction: Provide an answer to the question. Use the image to answer.\\n\",\n",
    "    \"https://images.unsplash.com/photo-1623944889288-cd147dbb517c?ixlib=rb-4.0.3&ixid=M3wxMjA3fDB8MHxwaG90by1wYWdlfHx8fGVufDB8fHx8fA%3D%3D&auto=format&fit=crop&w=3540&q=80\",\n",
    "    \"Question: Where are these people and what's the weather like? Answer:\"\n",
    "]\n",
    "\n",
    "inputs = processor(prompt, return_tensors=\"pt\").to(\"cuda\")\n",
    "bad_words_ids = processor.tokenizer([\"<image>\", \"<fake_token_around_image>\"], add_special_tokens=False).input_ids\n",
    "\n",
    "generated_ids = model.generate(**inputs, max_new_tokens=20, bad_words_ids=bad_words_ids)\n",
    "generated_text = processor.batch_decode(generated_ids, skip_special_tokens=True)\n",
    "print(generated_text[0])"
   ]
  },
  {
   "cell_type": "markdown",
   "metadata": {},
   "source": [
    "## Image classification"
   ]
  },
  {
   "cell_type": "markdown",
   "metadata": {},
   "source": [
    "IDEFICS は、次のデータを含むデータについて明示的にトレーニングしなくても、画像をさまざまなカテゴリに分類できます。\n",
    "これらの特定のカテゴリからのラベル付きの例。カテゴリのリストを指定し、その画像とテキストを使用して理解する\n",
    "機能を利用すると、モデルは画像がどのカテゴリに属する​​可能性が高いかを推測できます。\n",
    "\n",
    "たとえば、次のような野菜スタンドの画像があるとします。\n",
    "\n",
    "<div class=\"flex justify-center\">\n",
    "     <img src=\"https://huggingface.co/datasets/huggingface/documentation-images/resolve/main/transformers/tasks/idefics-classification.jpg\" alt=\"Image of a vegetable stand\"/>\n",
    "</div>\n",
    "\n",
    "写真提供：[Peter Wendt](https://unsplash.com/@peterwendt)。\n",
    "\n",
    "画像を次のいずれかのカテゴリに分類するようにモデルに指示できます。"
   ]
  },
  {
   "cell_type": "code",
   "execution_count": null,
   "metadata": {},
   "outputs": [
    {
     "data": {
      "text/plain": [
       "Instruction: Classify the following image into a single category from the following list: ['animals', 'vegetables', 'city landscape', 'cars', 'office'].\n",
       "Category: Vegetables"
      ]
     },
     "execution_count": null,
     "metadata": {},
     "output_type": "execute_result"
    }
   ],
   "source": [
    "categories = ['animals','vegetables', 'city landscape', 'cars', 'office']\n",
    "prompt = [f\"Instruction: Classify the following image into a single category from the following list: {categories}.\\n\",\n",
    "    \"https://images.unsplash.com/photo-1471193945509-9ad0617afabf?ixlib=rb-4.0.3&ixid=M3wxMjA3fDB8MHxwaG90by1wYWdlfHx8fGVufDB8fHx8fA%3D%3D&auto=format&fit=crop&w=3540&q=80\",    \n",
    "    \"Category: \"\n",
    "]\n",
    "\n",
    "inputs = processor(prompt, return_tensors=\"pt\").to(\"cuda\")\n",
    "bad_words_ids = processor.tokenizer([\"<image>\", \"<fake_token_around_image>\"], add_special_tokens=False).input_ids\n",
    "\n",
    "generated_ids = model.generate(**inputs, max_new_tokens=6, bad_words_ids=bad_words_ids)\n",
    "generated_text = processor.batch_decode(generated_ids, skip_special_tokens=True)\n",
    "print(generated_text[0])"
   ]
  },
  {
   "cell_type": "markdown",
   "metadata": {},
   "source": [
    "上の例では、画像を 1 つのカテゴリに分類するようにモデルに指示していますが、ランク分類を行うようにモデルに指示することもできます。"
   ]
  },
  {
   "cell_type": "markdown",
   "metadata": {},
   "source": [
    "## Image-guided text generation"
   ]
  },
  {
   "cell_type": "markdown",
   "metadata": {},
   "source": [
    "よりクリエイティブなアプリケーションの場合は、画像ガイド付きテキスト生成を使用して、画像に基づいてテキストを生成できます。これは可能です\n",
    "製品、広告、シーンの説明などを作成するのに役立ちます。\n",
    "\n",
    "IDEFICS に、赤いドアの単純な画像に基づいてストーリーを書くように促してみましょう。\n",
    "\n",
    "<div class=\"flex justify-center\">\n",
    "     <img src=\"https://huggingface.co/datasets/huggingface/documentation-images/resolve/main/transformers/tasks/idefics-story-generation.jpg\" alt=\"Image of a red door with a pumpkin on the steps\"/>\n",
    "</div>\n",
    "\n",
    "写真提供：[Craig Tidball](https://unsplash.com/@devonshiremedia)。"
   ]
  },
  {
   "cell_type": "code",
   "execution_count": null,
   "metadata": {},
   "outputs": [
    {
     "data": {
      "text/plain": [
       "Instruction: Use the image to write a story. \n",
       " Story: \n",
       "Once upon a time, there was a little girl who lived in a house with a red door.  She loved her red door.  It was the prettiest door in the whole world.\n",
       "\n",
       "One day, the little girl was playing in her yard when she noticed a man standing on her doorstep.  He was wearing a long black coat and a top hat.\n",
       "\n",
       "The little girl ran inside and told her mother about the man.\n",
       "\n",
       "Her mother said, “Don’t worry, honey.  He’s just a friendly ghost.”\n",
       "\n",
       "The little girl wasn’t sure if she believed her mother, but she went outside anyway.\n",
       "\n",
       "When she got to the door, the man was gone.\n",
       "\n",
       "The next day, the little girl was playing in her yard again when she noticed the man standing on her doorstep.\n",
       "\n",
       "He was wearing a long black coat and a top hat.\n",
       "\n",
       "The little girl ran"
      ]
     },
     "execution_count": null,
     "metadata": {},
     "output_type": "execute_result"
    }
   ],
   "source": [
    "prompt = [\"Instruction: Use the image to write a story. \\n\",\n",
    "    \"https://images.unsplash.com/photo-1517086822157-2b0358e7684a?ixlib=rb-4.0.3&ixid=M3wxMjA3fDB8MHxwaG90by1wYWdlfHx8fGVufDB8fHx8fA%3D%3D&auto=format&fit=crop&w=2203&q=80\",\n",
    "    \"Story: \\n\"]\n",
    "\n",
    "inputs = processor(prompt, return_tensors=\"pt\").to(\"cuda\")\n",
    "bad_words_ids = processor.tokenizer([\"<image>\", \"<fake_token_around_image>\"], add_special_tokens=False).input_ids\n",
    "\n",
    "generated_ids = model.generate(**inputs, num_beams=2, max_new_tokens=200, bad_words_ids=bad_words_ids)\n",
    "generated_text = processor.batch_decode(generated_ids, skip_special_tokens=True)\n",
    "print(generated_text[0])"
   ]
  },
  {
   "cell_type": "markdown",
   "metadata": {},
   "source": [
    "IDEFICS は玄関先にあるカボチャに気づき、幽霊に関する不気味なハロウィーンの話をしたようです。\n",
    "\n",
    "<Tip>\n",
    "\n",
    "このような長い出力の場合、テキスト生成戦略を微調整すると大きなメリットが得られます。これは役に立ちます\n",
    "生成される出力の品質が大幅に向上します。 [テキスト生成戦略](https://huggingface.co/docs/transformers/main/ja/tasks/../generation_strategies) を確認してください。\n",
    "詳しく知ることができ。\n",
    "\n",
    "</Tip>"
   ]
  },
  {
   "cell_type": "markdown",
   "metadata": {},
   "source": [
    "## Running inference in batch mode"
   ]
  },
  {
   "cell_type": "markdown",
   "metadata": {},
   "source": [
    "これまでのすべてのセクションでは、IDEFICS を 1 つの例として説明しました。非常に似た方法で、推論を実行できます。\n",
    "プロンプトのリストを渡すことにより、サンプルのバッチを取得します。"
   ]
  },
  {
   "cell_type": "code",
   "execution_count": null,
   "metadata": {},
   "outputs": [
    {
     "data": {
      "text/plain": [
       "0:\n",
       "This is an image of the Eiffel Tower in Paris, France.\n",
       "\n",
       "1:\n",
       "This is an image of a couple on a picnic blanket.\n",
       "\n",
       "2:\n",
       "This is an image of a vegetable stand."
      ]
     },
     "execution_count": null,
     "metadata": {},
     "output_type": "execute_result"
    }
   ],
   "source": [
    "prompts = [\n",
    "    [   \"https://images.unsplash.com/photo-1543349689-9a4d426bee8e?ixlib=rb-4.0.3&ixid=M3wxMjA3fDB8MHxwaG90by1wYWdlfHx8fGVufDB8fHx8fA%3D%3D&auto=format&fit=crop&w=3501&q=80\",\n",
    "        \"This is an image of \",\n",
    "    ],\n",
    "    [   \"https://images.unsplash.com/photo-1623944889288-cd147dbb517c?ixlib=rb-4.0.3&ixid=M3wxMjA3fDB8MHxwaG90by1wYWdlfHx8fGVufDB8fHx8fA%3D%3D&auto=format&fit=crop&w=3540&q=80\",\n",
    "        \"This is an image of \",\n",
    "    ],\n",
    "    [   \"https://images.unsplash.com/photo-1471193945509-9ad0617afabf?ixlib=rb-4.0.3&ixid=M3wxMjA3fDB8MHxwaG90by1wYWdlfHx8fGVufDB8fHx8fA%3D%3D&auto=format&fit=crop&w=3540&q=80\",\n",
    "        \"This is an image of \",\n",
    "    ],\n",
    "]\n",
    "\n",
    "inputs = processor(prompts, return_tensors=\"pt\").to(\"cuda\")\n",
    "bad_words_ids = processor.tokenizer([\"<image>\", \"<fake_token_around_image>\"], add_special_tokens=False).input_ids\n",
    "\n",
    "generated_ids = model.generate(**inputs, max_new_tokens=10, bad_words_ids=bad_words_ids)\n",
    "generated_text = processor.batch_decode(generated_ids, skip_special_tokens=True)\n",
    "for i,t in enumerate(generated_text):\n",
    "    print(f\"{i}:\\n{t}\\n\")"
   ]
  },
  {
   "cell_type": "markdown",
   "metadata": {},
   "source": [
    "## IDEFICS instruct for conversational use"
   ]
  },
  {
   "cell_type": "markdown",
   "metadata": {},
   "source": [
    "会話型のユースケースの場合は、🤗 ハブでモデルの微調整された指示されたバージョンを見つけることができます。\n",
    "`HuggingFaceM4/idefics-80b-instruct` および `HuggingFaceM4/idefics-9b-instruct`。\n",
    "\n",
    "これらのチェックポイントは、教師ありモデルと命令モデルを組み合わせたそれぞれの基本モデルを微調整した結果です。\n",
    "データセットを微調整することで、ダウンストリームのパフォーマンスを向上させながら、会話設定でモデルをより使いやすくします。\n",
    "\n",
    "会話での使用とプロンプトは、基本モデルの使用と非常に似ています。"
   ]
  },
  {
   "cell_type": "code",
   "execution_count": null,
   "metadata": {},
   "outputs": [],
   "source": [
    "import torch\n",
    "from transformers import IdeficsForVisionText2Text, AutoProcessor\n",
    "\n",
    "device = \"cuda\" if torch.cuda.is_available() else \"cpu\"\n",
    "\n",
    "checkpoint = \"HuggingFaceM4/idefics-9b-instruct\"\n",
    "model = IdeficsForVisionText2Text.from_pretrained(checkpoint, dtype=torch.bfloat16).to(device)\n",
    "processor = AutoProcessor.from_pretrained(checkpoint)\n",
    "\n",
    "prompts = [\n",
    "    [\n",
    "        \"User: What is in this image?\",\n",
    "        \"https://upload.wikimedia.org/wikipedia/commons/8/86/Id%C3%A9fix.JPG\",\n",
    "        \"<end_of_utterance>\",\n",
    "\n",
    "        \"\\nAssistant: This picture depicts Idefix, the dog of Obelix in Asterix and Obelix. Idefix is running on the ground.<end_of_utterance>\",\n",
    "\n",
    "        \"\\nUser:\",\n",
    "        \"https://static.wikia.nocookie.net/asterix/images/2/25/R22b.gif/revision/latest?cb=20110815073052\",\n",
    "        \"And who is that?<end_of_utterance>\",\n",
    "\n",
    "        \"\\nAssistant:\",\n",
    "    ],\n",
    "]\n",
    "\n",
    "# --batched mode\n",
    "inputs = processor(prompts, add_end_of_utterance_token=False, return_tensors=\"pt\").to(device)\n",
    "# --single sample mode\n",
    "# inputs = processor(prompts[0], return_tensors=\"pt\").to(device)\n",
    "\n",
    "# Generation args\n",
    "exit_condition = processor.tokenizer(\"<end_of_utterance>\", add_special_tokens=False).input_ids\n",
    "bad_words_ids = processor.tokenizer([\"<image>\", \"<fake_token_around_image>\"], add_special_tokens=False).input_ids\n",
    "\n",
    "generated_ids = model.generate(**inputs, eos_token_id=exit_condition, bad_words_ids=bad_words_ids, max_length=100)\n",
    "generated_text = processor.batch_decode(generated_ids, skip_special_tokens=True)\n",
    "for i, t in enumerate(generated_text):\n",
    "    print(f\"{i}:\\n{t}\\n\")"
   ]
  }
 ],
 "metadata": {},
 "nbformat": 4,
 "nbformat_minor": 4
}
