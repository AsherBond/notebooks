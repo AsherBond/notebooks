{
 "cells": [
  {
   "cell_type": "markdown",
   "metadata": {},
   "source": [
    "# Models"
   ]
  },
  {
   "cell_type": "markdown",
   "metadata": {},
   "source": [
    "A diffusion model relies on a few individual models working together to generate an output. These models are responsible for denoising, encoding inputs, and decoding latents into the actual outputs.\n",
    "\n",
    "This guide will show you how to load models."
   ]
  },
  {
   "cell_type": "markdown",
   "metadata": {},
   "source": [
    "## Loading a model"
   ]
  },
  {
   "cell_type": "markdown",
   "metadata": {},
   "source": [
    "All models are loaded with the [from_pretrained()](https://huggingface.co/docs/diffusers/main/en/api/models/overview#diffusers.ModelMixin.from_pretrained) method, which downloads and caches the latest model version. If the latest files are available in the local cache, [from_pretrained()](https://huggingface.co/docs/diffusers/main/en/api/models/overview#diffusers.ModelMixin.from_pretrained) reuses files in the cache.\n",
    "\n",
    "Pass the `subfolder` argument to [from_pretrained()](https://huggingface.co/docs/diffusers/main/en/api/models/overview#diffusers.ModelMixin.from_pretrained) to specify where to load the model weights from. Omit the `subfolder` argument if the repository doesn't have a subfolder structure or if you're loading a standalone model."
   ]
  },
  {
   "cell_type": "code",
   "execution_count": null,
   "metadata": {},
   "outputs": [],
   "source": [
    "from diffusers import QwenImageTransformer2DModel\n",
    "\n",
    "model = QwenImageTransformer2DModel.from_pretrained(\"Qwen/Qwen-Image\", subfolder=\"transformer\")"
   ]
  },
  {
   "cell_type": "markdown",
   "metadata": {},
   "source": [
    "## AutoModel"
   ]
  },
  {
   "cell_type": "markdown",
   "metadata": {},
   "source": [
    "[AutoModel](https://huggingface.co/docs/diffusers/main/en/api/models/auto_model#diffusers.AutoModel) detects the model class from a `model_index.json` file or a model's `config.json` file. It fetches the correct model class from these files and delegates the actual loading to the model class. [AutoModel](https://huggingface.co/docs/diffusers/main/en/api/models/auto_model#diffusers.AutoModel) is useful for automatic model type detection without needing to know the exact model class beforehand."
   ]
  },
  {
   "cell_type": "code",
   "execution_count": null,
   "metadata": {},
   "outputs": [],
   "source": [
    "from diffusers import AutoModel\n",
    "\n",
    "model = AutoModel.from_pretrained(\n",
    "    \"Qwen/Qwen-Image\", subfolder=\"transformer\"\n",
    ")"
   ]
  },
  {
   "cell_type": "markdown",
   "metadata": {},
   "source": [
    "## Model data types"
   ]
  },
  {
   "cell_type": "markdown",
   "metadata": {},
   "source": [
    "Use the `torch_dtype` argument in [from_pretrained()](https://huggingface.co/docs/diffusers/main/en/api/models/overview#diffusers.ModelMixin.from_pretrained) to load a model with a specific data type. This allows you to load a model in a lower precision to reduce memory usage."
   ]
  },
  {
   "cell_type": "code",
   "execution_count": null,
   "metadata": {},
   "outputs": [],
   "source": [
    "import torch\n",
    "from diffusers import QwenImageTransformer2DModel\n",
    "\n",
    "model = QwenImageTransformer2DModel.from_pretrained(\n",
    "    \"Qwen/Qwen-Image\",\n",
    "    subfolder=\"transformer\",\n",
    "    torch_dtype=torch.bfloat16\n",
    ")"
   ]
  },
  {
   "cell_type": "markdown",
   "metadata": {},
   "source": [
    "[nn.Module.to](https://docs.pytorch.org/docs/stable/generated/torch.nn.Module.html#torch.nn.Module.to) can also convert to a specific data type on the fly. However, it converts *all* weights to the requested data type unlike `torch_dtype` which respects `_keep_in_fp32_modules`. This argument preserves layers in `torch.float32` for numerical stability and best generation quality (see example [_keep_in_fp32_modules](https://github.com/huggingface/diffusers/blob/f864a9a352fa4a220d860bfdd1782e3e5af96382/src/diffusers/models/transformers/transformer_wan.py#L374))"
   ]
  },
  {
   "cell_type": "code",
   "execution_count": null,
   "metadata": {},
   "outputs": [],
   "source": [
    "from diffusers import QwenImageTransformer2DModel\n",
    "\n",
    "model = QwenImageTransformer2DModel.from_pretrained(\n",
    "    \"Qwen/Qwen-Image\", subfolder=\"transformer\"\n",
    ")\n",
    "model = model.to(dtype=torch.float16)"
   ]
  },
  {
   "cell_type": "markdown",
   "metadata": {},
   "source": [
    "## Device placement"
   ]
  },
  {
   "cell_type": "markdown",
   "metadata": {},
   "source": [
    "Use the `device_map` argument in [from_pretrained()](https://huggingface.co/docs/diffusers/main/en/api/models/overview#diffusers.ModelMixin.from_pretrained) to place a model on an accelerator like a GPU. It is especially helpful where there are multiple GPUs.\n",
    "\n",
    "Diffusers currently provides three options to `device_map` for individual models, `\"cuda\"`, `\"balanced\"` and `\"auto\"`. Refer to the table below to compare the three placement strategies.\n",
    "\n",
    "| parameter | description |\n",
    "|---|---|\n",
    "| `\"cuda\"` | places pipeline on a supported accelerator (CUDA) |\n",
    "| `\"balanced\"` | evenly distributes pipeline on all GPUs |\n",
    "| `\"auto\"` | distribute model from fastest device first to slowest |\n",
    "\n",
    "Use the `max_memory` argument in [from_pretrained()](https://huggingface.co/docs/diffusers/main/en/api/models/overview#diffusers.ModelMixin.from_pretrained) to allocate a maximum amount of memory to use on each device. By default, Diffusers uses the maximum amount available."
   ]
  },
  {
   "cell_type": "code",
   "execution_count": null,
   "metadata": {},
   "outputs": [],
   "source": [
    "import torch\n",
    "from diffusers import QwenImagePipeline\n",
    "\n",
    "max_memory = {0: \"16GB\", 1: \"16GB\"}\n",
    "pipeline = QwenImagePipeline.from_pretrained(\n",
    "    \"Qwen/Qwen-Image\", \n",
    "    torch_dtype=torch.bfloat16,\n",
    "    device_map=\"cuda\",\n",
    "    max_memory=max_memory\n",
    ")"
   ]
  },
  {
   "cell_type": "markdown",
   "metadata": {},
   "source": [
    "The `hf_device_map` attribute allows you to access and view the `device_map`."
   ]
  },
  {
   "cell_type": "code",
   "execution_count": null,
   "metadata": {},
   "outputs": [],
   "source": [
    "print(transformer.hf_device_map)\n",
    "# {'': device(type='cuda')}"
   ]
  },
  {
   "cell_type": "markdown",
   "metadata": {},
   "source": [
    "## Saving models"
   ]
  },
  {
   "cell_type": "markdown",
   "metadata": {},
   "source": [
    "Save a model with the [save_pretrained()](https://huggingface.co/docs/diffusers/main/en/api/models/overview#diffusers.ModelMixin.save_pretrained) method."
   ]
  },
  {
   "cell_type": "code",
   "execution_count": null,
   "metadata": {},
   "outputs": [],
   "source": [
    "from diffusers import QwenImageTransformer2DModel\n",
    "\n",
    "model = QwenImageTransformer2DModel.from_pretrained(\"Qwen/Qwen-Image\", subfolder=\"transformer\")\n",
    "model.save_pretrained(\"./local/model\")"
   ]
  },
  {
   "cell_type": "markdown",
   "metadata": {},
   "source": [
    "For large models, it is helpful to use `max_shard_size` to save a model as multiple shards. A shard can be loaded faster and save memory (refer to the [parallel loading](https://huggingface.co/docs/diffusers/main/en/using-diffusers/./loading#parallel-loading) docs for more details), especially if there is more than one GPU."
   ]
  },
  {
   "cell_type": "code",
   "execution_count": null,
   "metadata": {},
   "outputs": [],
   "source": [
    "model.save_pretrained(\"./local/model\", max_shard_size=\"5GB\")"
   ]
  }
 ],
 "metadata": {},
 "nbformat": 4,
 "nbformat_minor": 4
}
